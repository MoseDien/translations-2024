{
 "cells": [
  {
   "cell_type": "markdown",
   "metadata": {},
   "source": [
    "# Never a sity so real\n"
   ]
  },
  {
   "cell_type": "code",
   "execution_count": 1,
   "metadata": {},
   "outputs": [],
   "source": [
    "import env\n",
    "import utils\n",
    "\n",
    "# We use Gemini directly instead through langchain\n",
    "# because of safety settings,\n",
    "# langchain is developing this and not hasn't released yet\n",
    "import google.generativeai as genai\n",
    "import os\n",
    "\n",
    "genai.configure(\n",
    "    api_key=os.environ.get(\"GOOGLE_API_KEY\")\n",
    ")\n",
    "llm_gemini = genai.GenerativeModel(\n",
    "    model_name = \"gemini-pro\",\n",
    "    safety_settings=utils.safety_config\n",
    ")\n"
   ]
  },
  {
   "cell_type": "code",
   "execution_count": 14,
   "metadata": {},
   "outputs": [],
   "source": [
    "file_name = \"Never a City So Real A Walk in Chicago (Alex Kotlowitz) (Z-Library)\"\n",
    "input_file = f\"Chicago/{file_name}.pdf\"\n",
    "output_file = f\"Chicago/{file_name}-cn.txt\""
   ]
  },
  {
   "cell_type": "code",
   "execution_count": 15,
   "metadata": {},
   "outputs": [],
   "source": [
    "from langchain_community.document_loaders import PyPDFLoader\n",
    "\n",
    "loader = PyPDFLoader(input_file)\n",
    "pages = loader.load_and_split()"
   ]
  },
  {
   "cell_type": "code",
   "execution_count": 18,
   "metadata": {},
   "outputs": [
    {
     "ename": "ValueError",
     "evalue": "The `response.parts` quick accessor only works for a single candidate, but none were returned. Check the `response.prompt_feedback` to see if the prompt was blocked.",
     "output_type": "error",
     "traceback": [
      "\u001b[0;31m---------------------------------------------------------------------------\u001b[0m",
      "\u001b[0;31mValueError\u001b[0m                                Traceback (most recent call last)",
      "Cell \u001b[0;32mIn[18], line 16\u001b[0m\n\u001b[1;32m     14\u001b[0m     \u001b[38;5;28;01mbreak\u001b[39;00m\n\u001b[1;32m     15\u001b[0m file_output\u001b[38;5;241m.\u001b[39mwrite(\u001b[38;5;124mf\u001b[39m\u001b[38;5;124m\"\u001b[39m\u001b[38;5;130;01m\\n\u001b[39;00m\u001b[38;5;124m---- page: \u001b[39m\u001b[38;5;132;01m{\u001b[39;00mindex\u001b[38;5;132;01m}\u001b[39;00m\u001b[38;5;124m ---- \u001b[39m\u001b[38;5;130;01m\\n\u001b[39;00m\u001b[38;5;124m\"\u001b[39m)\n\u001b[0;32m---> 16\u001b[0m \u001b[38;5;28;01mfor\u001b[39;00m p \u001b[38;5;129;01min\u001b[39;00m \u001b[43mresponse\u001b[49m\u001b[38;5;241;43m.\u001b[39;49m\u001b[43mparts\u001b[49m:\n\u001b[1;32m     17\u001b[0m     file_output\u001b[38;5;241m.\u001b[39mwrite(p\u001b[38;5;241m.\u001b[39mtext\u001b[38;5;241m.\u001b[39mstrip())\n\u001b[1;32m     18\u001b[0m     file_output\u001b[38;5;241m.\u001b[39mflush()\n",
      "File \u001b[0;32m~/llm-env/llm-jupiter-2/lib/python3.11/site-packages/google/generativeai/types/generation_types.py:306\u001b[0m, in \u001b[0;36mBaseGenerateContentResponse.parts\u001b[0;34m(self)\u001b[0m\n\u001b[1;32m    304\u001b[0m candidates \u001b[38;5;241m=\u001b[39m \u001b[38;5;28mself\u001b[39m\u001b[38;5;241m.\u001b[39mcandidates\n\u001b[1;32m    305\u001b[0m \u001b[38;5;28;01mif\u001b[39;00m \u001b[38;5;129;01mnot\u001b[39;00m candidates:\n\u001b[0;32m--> 306\u001b[0m     \u001b[38;5;28;01mraise\u001b[39;00m \u001b[38;5;167;01mValueError\u001b[39;00m(\n\u001b[1;32m    307\u001b[0m         \u001b[38;5;124m\"\u001b[39m\u001b[38;5;124mThe `response.parts` quick accessor only works for a single candidate, \u001b[39m\u001b[38;5;124m\"\u001b[39m\n\u001b[1;32m    308\u001b[0m         \u001b[38;5;124m\"\u001b[39m\u001b[38;5;124mbut none were returned. Check the `response.prompt_feedback` to see if the prompt was blocked.\u001b[39m\u001b[38;5;124m\"\u001b[39m\n\u001b[1;32m    309\u001b[0m     )\n\u001b[1;32m    310\u001b[0m \u001b[38;5;28;01mif\u001b[39;00m \u001b[38;5;28mlen\u001b[39m(candidates) \u001b[38;5;241m>\u001b[39m \u001b[38;5;241m1\u001b[39m:\n\u001b[1;32m    311\u001b[0m     \u001b[38;5;28;01mraise\u001b[39;00m \u001b[38;5;167;01mValueError\u001b[39;00m(\n\u001b[1;32m    312\u001b[0m         \u001b[38;5;124m\"\u001b[39m\u001b[38;5;124mThe `response.parts` quick accessor only works with a \u001b[39m\u001b[38;5;124m\"\u001b[39m\n\u001b[1;32m    313\u001b[0m         \u001b[38;5;124m\"\u001b[39m\u001b[38;5;124msingle candidate. With multiple candidates use \u001b[39m\u001b[38;5;124m\"\u001b[39m\n\u001b[1;32m    314\u001b[0m         \u001b[38;5;124m\"\u001b[39m\u001b[38;5;124mresult.candidates[index].text\u001b[39m\u001b[38;5;124m\"\u001b[39m\n\u001b[1;32m    315\u001b[0m     )\n",
      "\u001b[0;31mValueError\u001b[0m: The `response.parts` quick accessor only works for a single candidate, but none were returned. Check the `response.prompt_feedback` to see if the prompt was blocked."
     ]
    }
   ],
   "source": [
    "file_output = open(output_file, \"a\")\n",
    "\n",
    "for index, page in enumerate(pages[:]):\n",
    "    prompt = f\"\"\" Suppose you are a translator, and your target language is simplified Chinese, \n",
    "    Your audiences are Chinese native young students in Junior school about 13 years old. \n",
    "    Translate the following english text to simplified Chinese: \\ ```{page.page_content}``` \"\"\" \n",
    "    \n",
    "    response = llm_gemini.generate_content(\n",
    "        prompt,\n",
    "        safety_settings=utils.safety_config\n",
    "    )\n",
    "\n",
    "    if response == None:\n",
    "        break\n",
    "    file_output.write(f\"\\n---- page: {index} ---- \\n\")\n",
    "    for p in response.parts:\n",
    "        file_output.write(p.text.strip())\n",
    "        file_output.flush()\n",
    "\n",
    "file_output.close()"
   ]
  },
  {
   "cell_type": "code",
   "execution_count": 24,
   "metadata": {},
   "outputs": [
    {
     "name": "stdout",
     "output_type": "stream",
     "text": [
      "（汤普森最喜欢的夜场之一便是位于塞塞罗的拉尔夫·卡彭的棉花俱乐部。）卡彭将他的行动基地迁回芝加哥，但在塞塞罗仍然有很重要的势力，直到他在 1932 年入狱为止。这是一种令人恼火的联系，尤其是因为它总是媒体对这个地方的第一印象。1953 年，塞塞罗考虑更改其名称，因为，该镇的律师说，“各地的人都认为我们只是一群暴徒。塞塞罗的孩子无法进入大学兄弟会。”直到 1993 年，仍然希望让记者不再关注卡彭的联系，该镇悬挂横幅声称塞塞罗是欧内斯特·海明威的出生地。实际上，海明威来自附近的橡树公园，该公园在 1899 年未合并，因此在技术上（如果不是社会上）是塞塞罗的一部分。对卡彭的防御是可以理解的，但它似乎是错位的，因为塞塞罗声名狼藉的另一个原因在很大程度上更令人尴尬。简单地说，几十年来，塞塞罗一直奉行不允许黑人的政策。它像美国南部民权运动之前的任何事情一样激烈和有力。我敢打赌，这个小镇是在不让非裔美国人进入方面全国最擅长的。多年来，该村拒绝接受某些联邦补助金，因此它不必遵守公开住房或招聘法律。在那里长大的立陶宛人和意大利人告诉我，当他们还是孩子的时候，他们会将见到的任何黑人赶出城——在警察的授意下。1951年，伊利诺斯的亚历克斯·科特洛维茨\n",
      "当三天的暴徒向刚刚搬进来的黑人公共汽车司机和他的家人的二层公寓投掷石块和碎金属时，州长阿德莱·史蒂文森不得不出动国民警卫队。城镇警察袖手旁观，据说有些还提供了石块，这些西塞罗人最终冲进公寓，将这个家庭的物品，包括钢琴从窗外扔了出去。1967年，马丁路德金在芝加哥领导其开放住房竞选活动，宣布将在西塞罗游行，以此让抵制金博士努力的芝加哥市长戴利难堪。但是当县里官员告诉金无法保障他的安全后，他选择不游行，在此之前，他曾面对伯明翰的警察局长布尔·康纳。金将西塞罗称为北方的塞尔玛。然后，在 1980 年代，一名警长和搬到西塞罗的少数几个非裔美国家庭之一发生冲突，司法部下令警方接受种族敏感性培训。我岳父杰克帮助领导了这些研讨会，他回忆起一名警长身穿印有“police brutality. The fun part of police work”（警察暴行。警察工作的有趣之处）字样的T恤参加会议。这是博伊尔搬到这里时所面临的情况，但一开始他和西塞罗看上去势均力敌。在越南担任过海军陆战队员的博伊尔体型像个橄榄球运动员，矮壮且双肩宽厚。他有着斗牛犬一样红润的脸，从不\n",
      "他矮胖，鼻子塌。当他生气的时候，他的手就会下意识地攥成拳头。他说的话可能不太妥当，而且他经常不晓得什么时候该退一步。有一次，在镇上的一次会议后，一个看起来只有博伊尔一半大的男人在走廊里盯着他看。“你盯着我干什么？”博伊尔恶狠狠地说，“见鬼，滚开！”“去你的，”年轻人回答道，“去你的，”博伊尔说完，朝着那人撞了过去。博伊尔的全身紧绷起来，似乎准备动手。“出去，”他建议道。正是年轻人，而不是博伊尔，有足够的理智离开了。在被副酒类专员告知最好保持安静后，博伊尔却做出了恰恰相反的事情：他游说他的近 400 名邻居在市议会会议上露面，让全镇都把 C 先生的店关掉。随后，他收集了足够的签名，要求发起一项咨询性公投，呼吁所有酒吧在凌晨两点钟关门。选民以三比一的票数通过了这项措施，但市长拒绝将现在的关门时间从凌晨六点撤销。于是博伊尔审查了全镇记录，发现自己认为是黑帮经营的五间酒吧都没有续订自己的酒类经营许可证。随后，他前往警察局投诉。那晚凌晨两点，他和娜丁被一声巨响惊醒了。戴夫从二楼卧室的窗户向外看，发现他的车库正处于熊熊烈火中。有人炸掉了他的车库。\n"
     ]
    },
    {
     "ename": "ValueError",
     "evalue": "The `response.parts` quick accessor only works for a single candidate, but none were returned. Check the `response.prompt_feedback` to see if the prompt was blocked.",
     "output_type": "error",
     "traceback": [
      "\u001b[0;31m---------------------------------------------------------------------------\u001b[0m",
      "\u001b[0;31mValueError\u001b[0m                                Traceback (most recent call last)",
      "Cell \u001b[0;32mIn[24], line 11\u001b[0m\n\u001b[1;32m      2\u001b[0m prompt \u001b[38;5;241m=\u001b[39m \u001b[38;5;124mf\u001b[39m\u001b[38;5;124m\"\"\"\u001b[39m\u001b[38;5;124m Suppose you are a translator, and your target language is simplified Chinese, \u001b[39m\n\u001b[1;32m      3\u001b[0m \u001b[38;5;124mYour audiences are Chinese native young students in Junior school about 13 years old. \u001b[39m\n\u001b[1;32m      4\u001b[0m \u001b[38;5;124mTranslate the following english text to simplified Chinese: \u001b[39m\u001b[38;5;124m\\\u001b[39m\u001b[38;5;124m ```\u001b[39m\u001b[38;5;132;01m{\u001b[39;00mpage\u001b[38;5;241m.\u001b[39mpage_content\u001b[38;5;132;01m}\u001b[39;00m\u001b[38;5;124m``` \u001b[39m\u001b[38;5;124m\"\"\"\u001b[39m \n\u001b[1;32m      6\u001b[0m response \u001b[38;5;241m=\u001b[39m llm_gemini\u001b[38;5;241m.\u001b[39mgenerate_content(\n\u001b[1;32m      7\u001b[0m     prompt,\n\u001b[1;32m      8\u001b[0m     safety_settings\u001b[38;5;241m=\u001b[39mutils\u001b[38;5;241m.\u001b[39msafety_config\n\u001b[1;32m      9\u001b[0m )\n\u001b[0;32m---> 11\u001b[0m \u001b[38;5;28;01mif\u001b[39;00m \u001b[38;5;28mlen\u001b[39m(\u001b[43mresponse\u001b[49m\u001b[38;5;241;43m.\u001b[39;49m\u001b[43mparts\u001b[49m) \u001b[38;5;241m==\u001b[39m \u001b[38;5;241m0\u001b[39m:\n\u001b[1;32m     12\u001b[0m     \u001b[38;5;28;01mcontinue\u001b[39;00m\n\u001b[1;32m     13\u001b[0m \u001b[38;5;28;01mfor\u001b[39;00m p \u001b[38;5;129;01min\u001b[39;00m response\u001b[38;5;241m.\u001b[39mparts:\n",
      "File \u001b[0;32m~/llm-env/llm-jupiter-2/lib/python3.11/site-packages/google/generativeai/types/generation_types.py:306\u001b[0m, in \u001b[0;36mBaseGenerateContentResponse.parts\u001b[0;34m(self)\u001b[0m\n\u001b[1;32m    304\u001b[0m candidates \u001b[38;5;241m=\u001b[39m \u001b[38;5;28mself\u001b[39m\u001b[38;5;241m.\u001b[39mcandidates\n\u001b[1;32m    305\u001b[0m \u001b[38;5;28;01mif\u001b[39;00m \u001b[38;5;129;01mnot\u001b[39;00m candidates:\n\u001b[0;32m--> 306\u001b[0m     \u001b[38;5;28;01mraise\u001b[39;00m \u001b[38;5;167;01mValueError\u001b[39;00m(\n\u001b[1;32m    307\u001b[0m         \u001b[38;5;124m\"\u001b[39m\u001b[38;5;124mThe `response.parts` quick accessor only works for a single candidate, \u001b[39m\u001b[38;5;124m\"\u001b[39m\n\u001b[1;32m    308\u001b[0m         \u001b[38;5;124m\"\u001b[39m\u001b[38;5;124mbut none were returned. Check the `response.prompt_feedback` to see if the prompt was blocked.\u001b[39m\u001b[38;5;124m\"\u001b[39m\n\u001b[1;32m    309\u001b[0m     )\n\u001b[1;32m    310\u001b[0m \u001b[38;5;28;01mif\u001b[39;00m \u001b[38;5;28mlen\u001b[39m(candidates) \u001b[38;5;241m>\u001b[39m \u001b[38;5;241m1\u001b[39m:\n\u001b[1;32m    311\u001b[0m     \u001b[38;5;28;01mraise\u001b[39;00m \u001b[38;5;167;01mValueError\u001b[39;00m(\n\u001b[1;32m    312\u001b[0m         \u001b[38;5;124m\"\u001b[39m\u001b[38;5;124mThe `response.parts` quick accessor only works with a \u001b[39m\u001b[38;5;124m\"\u001b[39m\n\u001b[1;32m    313\u001b[0m         \u001b[38;5;124m\"\u001b[39m\u001b[38;5;124msingle candidate. With multiple candidates use \u001b[39m\u001b[38;5;124m\"\u001b[39m\n\u001b[1;32m    314\u001b[0m         \u001b[38;5;124m\"\u001b[39m\u001b[38;5;124mresult.candidates[index].text\u001b[39m\u001b[38;5;124m\"\u001b[39m\n\u001b[1;32m    315\u001b[0m     )\n",
      "\u001b[0;31mValueError\u001b[0m: The `response.parts` quick accessor only works for a single candidate, but none were returned. Check the `response.prompt_feedback` to see if the prompt was blocked."
     ]
    }
   ],
   "source": [
    "for index, page in enumerate(pages[119:123]):\n",
    "    prompt = f\"\"\" Suppose you are a translator, and your target language is simplified Chinese, \n",
    "    Your audiences are Chinese native young students in Junior school about 13 years old. \n",
    "    Translate the following english text to simplified Chinese: \\ ```{page.page_content}``` \"\"\" \n",
    "    \n",
    "    response = llm_gemini.generate_content(\n",
    "        prompt,\n",
    "        safety_settings=utils.safety_config\n",
    "    )\n",
    "\n",
    "    if len(response.parts) == 0:\n",
    "        continue\n",
    "    for p in response.parts:\n",
    "        print(p.text.strip())"
   ]
  }
 ],
 "metadata": {
  "kernelspec": {
   "display_name": "bel-llm-jupiter-2",
   "language": "python",
   "name": "bel-llm-jupiter-2"
  },
  "language_info": {
   "codemirror_mode": {
    "name": "ipython",
    "version": 3
   },
   "file_extension": ".py",
   "mimetype": "text/x-python",
   "name": "python",
   "nbconvert_exporter": "python",
   "pygments_lexer": "ipython3",
   "version": "3.11.6"
  }
 },
 "nbformat": 4,
 "nbformat_minor": 2
}

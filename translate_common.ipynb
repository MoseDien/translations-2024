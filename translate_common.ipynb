{
 "cells": [
  {
   "cell_type": "markdown",
   "metadata": {},
   "source": [
    "# Never a sity so real\n"
   ]
  },
  {
   "cell_type": "markdown",
   "metadata": {},
   "source": [
    "# translate common script"
   ]
  },
  {
   "cell_type": "code",
   "execution_count": 1,
   "metadata": {},
   "outputs": [],
   "source": [
    "import env\n",
    "import utils\n",
    "\n",
    "# We use Gemini directly instead through langchain\n",
    "# because of safety settings,\n",
    "# langchain is developing this and not hasn't released yet\n",
    "import google.generativeai as genai\n",
    "import os\n",
    "\n",
    "genai.configure(\n",
    "    api_key=os.environ.get(\"GOOGLE_API_KEY\")\n",
    ")\n",
    "llm_gemini = genai.GenerativeModel(\n",
    "    model_name = \"gemini-pro\",\n",
    "    safety_settings=utils.safety_config\n",
    ")\n"
   ]
  },
  {
   "cell_type": "code",
   "execution_count": 13,
   "metadata": {},
   "outputs": [],
   "source": [
    "from langchain_community.document_loaders import PyPDFLoader\n",
    "\n",
    "def translate_pdf(input_file, output_file):\n",
    "    loader = PyPDFLoader(input_file)\n",
    "    pages = loader.load_and_split()\n",
    "\n",
    "    with open(output_file, \"w\") as output:\n",
    "        for index, page in enumerate(pages[:]):\n",
    "            prompt = f\"\"\" Suppose you are a translator, and your target language is simplified Chinese, \n",
    "            Your audiences are Chinese native young students in Junior school about 13 years old. \n",
    "            Translate the following english text to simplified Chinese: \\ ```{page.page_content}``` \"\"\" \n",
    "    \n",
    "            response = llm_gemini.generate_content(\n",
    "                prompt,\n",
    "                safety_settings=utils.safety_config\n",
    "            )\n",
    "\n",
    "            output.write(f\"\\n---- page: {index} ---- \\n\")\n",
    "            if len(response.candidates) > 0:\n",
    "                # we only get the first candidate\n",
    "                for p in response.candidates[0].content.parts:\n",
    "                    output.write(p.text.strip())\n",
    "                output.flush()"
   ]
  },
  {
   "cell_type": "code",
   "execution_count": null,
   "metadata": {},
   "outputs": [],
   "source": [
    "# markdown\n",
    "def translate_md(input_file, output_file):\n",
    "    pass"
   ]
  },
  {
   "cell_type": "code",
   "execution_count": 7,
   "metadata": {},
   "outputs": [],
   "source": [
    "# TXT\n",
    "from langchain.text_splitter import CharacterTextSplitter\n",
    "\n",
    "def translate_txt(input_file, output_file):\n",
    "    with open(input_file) as f:\n",
    "        doc_input = f.read()\n",
    "\n",
    "    text_splitter = CharacterTextSplitter.from_tiktoken_encoder(\n",
    "        chunk_size=1000, chunk_overlap=0\n",
    "    )\n",
    "    texts = text_splitter.split_text(doc_input)\n",
    "    print(len(texts))\n",
    "\n",
    "    # translate\n",
    "    file_output = open(output_file, \"a\")\n",
    "\n",
    "    for index, text in enumerate(texts[:]):\n",
    "        prompt = f\"\"\" Suppose you are a translator, and your target language is simplified Chinese, \n",
    "        Your audiences are Chinese native young students in Junior school about 13 years old. \n",
    "        Translate the following english text to simplified Chinese: \\ ```{text}``` \"\"\" \n",
    "    \n",
    "        response = llm_gemini.generate_content(\n",
    "            prompt,\n",
    "            safety_settings=utils.safety_config\n",
    "        )\n",
    "\n",
    "        for p in response.parts:\n",
    "            file_output.write(p.text.strip())\n",
    "\n",
    "    file_output.close()"
   ]
  },
  {
   "cell_type": "code",
   "execution_count": 9,
   "metadata": {},
   "outputs": [
    {
     "name": "stdout",
     "output_type": "stream",
     "text": [
      "2\n"
     ]
    }
   ],
   "source": [
    "# Sroach_econ cdf - 2024/04/07\n",
    "input_file = f\"content/sroach_econ_cdf.txt\"\n",
    "output_file = f\"content/sroach_econ_cdf_cn.txt\"\n",
    "translate_txt(input_file, output_file)"
   ]
  },
  {
   "cell_type": "code",
   "execution_count": 12,
   "metadata": {},
   "outputs": [],
   "source": [
    "# tissot-156-en - 2024/04/07\n",
    "input_file = f\"content/tissot-156-en.pdf\"\n",
    "output_file = f\"content/tissot-156-en-cn.txt\"\n",
    "translate_pdf(input_file, output_file)\n"
   ]
  }
 ],
 "metadata": {
  "kernelspec": {
   "display_name": "bel-llm-jupiter-2",
   "language": "python",
   "name": "bel-llm-jupiter-2"
  },
  "language_info": {
   "codemirror_mode": {
    "name": "ipython",
    "version": 3
   },
   "file_extension": ".py",
   "mimetype": "text/x-python",
   "name": "python",
   "nbconvert_exporter": "python",
   "pygments_lexer": "ipython3",
   "version": "3.11.6"
  }
 },
 "nbformat": 4,
 "nbformat_minor": 2
}

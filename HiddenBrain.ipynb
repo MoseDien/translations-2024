{
 "cells": [
  {
   "cell_type": "markdown",
   "metadata": {},
   "source": [
    "# Hidden Brain\n",
    "- The documents are from [Hidden Brain](https://www.npr.org/series/423302056/hidden-brain)"
   ]
  },
  {
   "cell_type": "code",
   "execution_count": 1,
   "metadata": {},
   "outputs": [],
   "source": [
    "import env\n",
    "import utils"
   ]
  },
  {
   "cell_type": "code",
   "execution_count": 3,
   "metadata": {},
   "outputs": [],
   "source": [
    "# We use Gemini directly instead through langchain\n",
    "# because of safety settings,\n",
    "# langchain is developing this and not hasn't released yet\n",
    "import google.generativeai as genai\n",
    "import os\n",
    "\n",
    "genai.configure(\n",
    "    api_key=os.environ.get(\"GOOGLE_API_KEY\")\n",
    ")\n",
    "llm_gemini = genai.GenerativeModel(\n",
    "    model_name = \"gemini-pro\",\n",
    "    safety_settings=utils.safety_config\n",
    ")"
   ]
  },
  {
   "cell_type": "code",
   "execution_count": 9,
   "metadata": {},
   "outputs": [],
   "source": [
    "# full transcript from -\n",
    "\n",
    "hidden_brain_npr = \"You20-Woop\"\n",
    "\n",
    "input_file = f\"HiddenBrain/{hidden_brain_npr}.txt\"\n",
    "output_file = f\"HiddenBrain/{hidden_brain_npr}_cn.txt\"\n"
   ]
  },
  {
   "cell_type": "code",
   "execution_count": 12,
   "metadata": {},
   "outputs": [
    {
     "name": "stdout",
     "output_type": "stream",
     "text": [
      "4\n"
     ]
    }
   ],
   "source": [
    "# CharacterTextSplitter.from_tiktoken_encoder\n",
    "# can split text into chunks by sentence\n",
    "from langchain.text_splitter import CharacterTextSplitter\n",
    "\n",
    "with open(input_file) as f:\n",
    "    doc_input = f.read()\n",
    "\n",
    "text_splitter = CharacterTextSplitter.from_tiktoken_encoder(\n",
    "    chunk_size=1000, chunk_overlap=0\n",
    ")\n",
    "texts = text_splitter.split_text(doc_input)\n",
    "print(len(texts))\n",
    "\n",
    "# translate\n",
    "file_output = open(output_file, \"a\")\n",
    "\n",
    "for index, text in enumerate(texts[:]):\n",
    "    prompt = f\"\"\" Suppose you are a translator, and your target language is simplified Chinese, \n",
    "    Your audiences are Chinese native young students in Junior school about 13 years old. \n",
    "    Translate the following english text to simplified Chinese: \\ ```{text}``` \"\"\" \n",
    "    \n",
    "    response = llm_gemini.generate_content(\n",
    "        prompt,\n",
    "        safety_settings=utils.safety_config\n",
    "    )\n",
    "\n",
    "    for p in response.parts:\n",
    "        file_output.write(p.text.strip())\n",
    "\n",
    "file_output.close()"
   ]
  }
 ],
 "metadata": {
  "kernelspec": {
   "display_name": "bel-llm-jupiter-2",
   "language": "python",
   "name": "bel-llm-jupiter-2"
  },
  "language_info": {
   "codemirror_mode": {
    "name": "ipython",
    "version": 3
   },
   "file_extension": ".py",
   "mimetype": "text/x-python",
   "name": "python",
   "nbconvert_exporter": "python",
   "pygments_lexer": "ipython3",
   "version": "3.11.6"
  }
 },
 "nbformat": 4,
 "nbformat_minor": 2
}

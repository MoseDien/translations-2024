{
 "cells": [
  {
   "cell_type": "markdown",
   "metadata": {},
   "source": [
    "# Chicago flagshback"
   ]
  },
  {
   "cell_type": "code",
   "execution_count": 26,
   "metadata": {},
   "outputs": [],
   "source": [
    "import env\n",
    "import utils\n",
    "\n",
    "# We use Gemini directly instead through langchain\n",
    "# because of safety settings,\n",
    "# langchain is developing this and not hasn't released yet\n",
    "import google.generativeai as genai\n",
    "import os\n",
    "\n",
    "genai.configure(\n",
    "    api_key=os.environ.get(\"GOOGLE_API_KEY\")\n",
    ")\n",
    "llm_gemini = genai.GenerativeModel(\n",
    "    model_name = \"gemini-pro\",\n",
    "    safety_settings=utils.safety_config\n",
    ")\n"
   ]
  },
  {
   "cell_type": "code",
   "execution_count": 27,
   "metadata": {},
   "outputs": [],
   "source": [
    "input_file = f\"/Users/bell/Books/ChicagoFlashback.epub\"\n",
    "output_file = f\"Chicago/ChicagoFlashback-cn.txt\""
   ]
  },
  {
   "cell_type": "code",
   "execution_count": 28,
   "metadata": {},
   "outputs": [],
   "source": [
    "# need to install:\n",
    "#  brew install pandoc\n",
    "#  pip install pandoc, pypandoc\n",
    "from langchain_community.document_loaders import UnstructuredEPubLoader\n",
    "\n",
    "loader = UnstructuredEPubLoader(input_file, mode=\"elements\")\n",
    "pages = loader.load()"
   ]
  },
  {
   "cell_type": "code",
   "execution_count": 29,
   "metadata": {},
   "outputs": [
    {
     "name": "stdout",
     "output_type": "stream",
     "text": [
      "pages: 4206\n",
      "max size: 852\n",
      "162\n"
     ]
    }
   ],
   "source": [
    "print(f\"pages: {len(pages)}\")\n",
    "print(f\"max size: {max([len(p.page_content) for p in pages])}\")\n",
    "\n",
    "updated_pages = []\n",
    "size = 0\n",
    "index = 0\n",
    "content = \"\"\n",
    "while index < len(pages):\n",
    "    page = pages[index]\n",
    "    size += len(page.page_content)\n",
    "    content += page.page_content\n",
    "    if size > 4000:\n",
    "        updated_pages.append(content)\n",
    "        content = \"\"\n",
    "        size = 0\n",
    "    index += 1\n",
    "print(len(updated_pages))"
   ]
  },
  {
   "cell_type": "code",
   "execution_count": 35,
   "metadata": {},
   "outputs": [
    {
     "name": "stdout",
     "output_type": "stream",
     "text": [
      "4302\n",
      "1845: Chicago passes first blue\n",
      "law, closing “tippling houses” on Sundays.1846: Chicago claims it has one of\n",
      "the “best and safest harbors on the lake.”1847: Chicago Tribune begins\n",
      "publishing.1848: Chicago welcomes business\n",
      "with opening of the I&M Canal and the Chicago Board of\n",
      "Trade.1849: Spring storm sweeps away all\n",
      "Chicago River bridges.1850: City planks 6.7 miles of\n",
      "streets, including 12,000 feet of State Street.1851: Public Water Board organized\n",
      "to handle recurring cholera epidemics.1852: First public transportation\n",
      "(a large horse-drawn carriage).1853: YMCA expands to\n",
      "Chicago.1854: Lakeview is promoted as a\n",
      "pleasant summer retreat away from city’s disease and heat.1855: Lager Beer Riots in April\n",
      "protest higher saloon taxes and anti-beer laws.1856: City raises streets out of\n",
      "the swamp.1857: Allan Pinkerton’s men thwart\n",
      "a grave-robbing scheme by a city official.1858: Police force gets uniforms\n",
      "and fire department switches from volunteer to paid.1859: First horse-drawn street\n",
      "railway, or horsecars, begins operation.1860: Republicans meeting in the\n",
      "Wigwam nominate Abraham Lincoln for president.1861: The Chicago Zouaves, Irish\n",
      "Brigade and Lincoln Rifles are among companies to march off to fight in\n",
      "Civil War.1862: Camp Douglas converted to\n",
      "prison for rebel soldiers.1863: Rush Street bridge\n",
      "collapses, killing a girl and scores of cattle.1864: Free mail delivery\n",
      "begins.1865: Union Stock Yards\n",
      "open.1866: City completes two-mile\n",
      "tunnel into lake to draw “pure water.”1867: St. Stanislaus Kostka parish is\n",
      "first of many to serve the Polish community.1868: Lincoln Park Zoo welcomes\n",
      "its first animals, a pair of swans.1869: Chicago Water Tower\n",
      "erected.1870: St. Ignatius University opens\n",
      "(later renamed Loyola).1871: Great Chicago Fire kills at\n",
      "least 300 people and destroys a huge swath of the city.1872: First African-American\n",
      "police officer hired.1873: Tribune reports new city\n",
      "directory shows Chicago has 212 churches, 80 newspapers and 31 railroad\n",
      "companies.1874: Little Chicago Fire destroys\n",
      "60 acres on Near South Side.1875: Tribune reports money\n",
      "available to complete long-awaited “drive along the Lake shore on the\n",
      "North Side.”1876: The team that would\n",
      "eventually be called the Chicago Cubs wins the National League’s first\n",
      "title.1877: Pacific Garden Mission\n",
      "begins offering refuge to the downtrodden.1878: Fire pole invented in a\n",
      "Chicago firehouse.1879: Union League Club of Chicago\n",
      "organized.Looking south from 39th Street\n",
      "over Outer Drive (now Lake Shore Drive) in May 1930 after it was opened\n",
      "to traffic.1880: Rabbi Emil Hirsch takes over\n",
      "Chicago Sinai Congregation and builds it into city’s largest.1881: Town of Pullman opens to\n",
      "house railroad car factory workers and their families.1882: Cable car system clangs into\n",
      "operation; it would grow into one of the world’s largest.1883: Washington Park Jockey Club\n",
      "established.1884: Construction begins on the\n",
      "Home Insurance Building, the first skyscraper at 10 floors.1885: First female police matron\n",
      "hired to watch female prisoners.1886: Haymarket Square\n",
      "Riot.1887: Softball is invented on the\n",
      "South Side.1888: Adler and Sullivan’s\n",
      "Auditorium Building is built.1889: The city triples in size\n",
      "with annexation of the municipalities of Lake View, Hyde Park, Jefferson\n",
      "and Lake.1889: Jane Addams opens Hull\n",
      "House.1890: Aaron Montgomery Ward\n",
      "successfully sues the city to keep Grant Park open.1891: Marie Owens hired as first\n",
      "female police officer.1892: University of Chicago opens\n",
      "for class.1893: World’s Columbian\n",
      "Exposition.1893: Mayor Carter Harrison I is\n",
      "assassinated.1894: Pullman workers go on\n",
      "strike.1895: The nation’s first\n",
      "automobile race is held in Chicago and Evanston.1896: William Jennings Bryan gives\n",
      "his Cross of Gold speech at the Democratic National\n",
      "Convention.1897: Elevated train line built in\n",
      "Loop.1898: First Chicago-to-Mackinac\n",
      "sailboat race.1899: L. Frank Baum writes “The\n",
      "Wonderful Wizard of Oz” at his Humboldt Park home.1900: Chicago River’s flow is\n",
      "reversed.1900: Chicago White Sox play their\n",
      "first game.\n"
     ]
    }
   ],
   "source": [
    "print(len(updated_pages[0]))\n",
    "print(updated_pages[2])\n",
    "pages = updated_pages"
   ]
  },
  {
   "cell_type": "code",
   "execution_count": 40,
   "metadata": {},
   "outputs": [],
   "source": [
    "file_output = open(output_file, \"a\")\n",
    "start = 141\n",
    "for index, page in enumerate(pages[start:]):\n",
    "    prompt = f\"\"\" Suppose you are a translator, and your target language is simplified Chinese, \n",
    "    Your audiences are Chinese native young students in Junior school about 13 years old. \n",
    "    Translate the following english text to simplified Chinese: \\ ```{page}``` \"\"\" \n",
    "    \n",
    "    response = llm_gemini.generate_content(\n",
    "        prompt,\n",
    "        safety_settings=utils.safety_config\n",
    "    )\n",
    "\n",
    "    file_output.write(f\"\\n---- part: {index+start} ---- \\n\")\n",
    "    if len(response.candidates) > 0:\n",
    "        # we only get the first candidate\n",
    "        for p in response.candidates[0].content.parts:\n",
    "            file_output.write(p.text.strip())\n",
    "        file_output.flush()\n",
    "    \n",
    "file_output.close()"
   ]
  }
 ],
 "metadata": {
  "kernelspec": {
   "display_name": "bel-llm-jupiter-2",
   "language": "python",
   "name": "bel-llm-jupiter-2"
  },
  "language_info": {
   "codemirror_mode": {
    "name": "ipython",
    "version": 3
   },
   "file_extension": ".py",
   "mimetype": "text/x-python",
   "name": "python",
   "nbconvert_exporter": "python",
   "pygments_lexer": "ipython3",
   "version": "3.11.6"
  }
 },
 "nbformat": 4,
 "nbformat_minor": 2
}
